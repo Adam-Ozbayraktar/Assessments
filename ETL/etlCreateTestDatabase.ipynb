{
 "cells": [
  {
   "cell_type": "markdown",
   "metadata": {
    "collapsed": true
   },
   "source": [
    "### CREATE TEST DATABASE"
   ]
  },
  {
   "cell_type": "markdown",
   "metadata": {
    "collapsed": true
   },
   "source": [
    "jira: https://jira.bltelecoms.net/browse/SWITZERLAND-428"
   ]
  },
  {
   "cell_type": "code",
   "execution_count": 1,
   "metadata": {
    "collapsed": true
   },
   "outputs": [],
   "source": [
    "import sqlite3"
   ]
  },
  {
   "cell_type": "code",
   "execution_count": 2,
   "metadata": {
    "collapsed": true
   },
   "outputs": [],
   "source": [
    "import pandas as pd"
   ]
  },
  {
   "cell_type": "code",
   "execution_count": 3,
   "metadata": {},
   "outputs": [
    {
     "name": "stdout",
     "output_type": "stream",
     "text": [
      "Opened database successfully\n"
     ]
    }
   ],
   "source": [
    "conn = sqlite3.connect('etl.db')\n",
    "print (\"Opened database successfully\");"
   ]
  },
  {
   "cell_type": "code",
   "execution_count": 4,
   "metadata": {},
   "outputs": [
    {
     "name": "stdout",
     "output_type": "stream",
     "text": [
      "Tables created successfully\n"
     ]
    }
   ],
   "source": [
    "#  create tables\n",
    "conn.execute('''CREATE TABLE COMPANY\n",
    "         (ID INT PRIMARY KEY     NOT NULL,\n",
    "         NAME           TEXT    NOT NULL,\n",
    "         AGE            INT     NOT NULL,\n",
    "         ADDRESS        CHAR(50) NOT NULL,\n",
    "         SALARY         REAL NOT NULL)\n",
    "         ;''');\n",
    "\n",
    "conn.execute('''CREATE TABLE VEHICLES\n",
    "         (ID INT PRIMARY KEY     NOT NULL,\n",
    "         MAKE           CHAR(20)    NOT NULL,\n",
    "         CYLINDERS      INT     NOT NULL,\n",
    "         TRANSMISSION   CHAR(10)    NOT NULL)\n",
    "         ;''');\n",
    "\n",
    "print (\"Tables created successfully\");\n",
    "\n",
    "# conn.close()"
   ]
  },
  {
   "cell_type": "code",
   "execution_count": 5,
   "metadata": {},
   "outputs": [
    {
     "name": "stdout",
     "output_type": "stream",
     "text": [
      "COMPANY Records created successfully\n"
     ]
    }
   ],
   "source": [
    "# insert records COMPANY table\n",
    "conn.execute(\"INSERT INTO COMPANY (ID,NAME,AGE,ADDRESS,SALARY) \\\n",
    "      VALUES (1, 'Paul', 32, 'California', 20000.00 )\");\n",
    "\n",
    "conn.execute(\"INSERT INTO COMPANY (ID,NAME,AGE,ADDRESS,SALARY) \\\n",
    "      VALUES (2, 'Allen', 25, 'Texas', 15000.00 )\");\n",
    "\n",
    "conn.execute(\"INSERT INTO COMPANY (ID,NAME,AGE,ADDRESS,SALARY) \\\n",
    "      VALUES (3, 'Teddy', 23, 'Norway', 20000.00 )\");\n",
    "\n",
    "conn.execute(\"INSERT INTO COMPANY (ID,NAME,AGE,ADDRESS,SALARY) \\\n",
    "      VALUES (4, 'Mark', 25, 'Rich-Mond ', 65000.00 )\");\n",
    "\n",
    "conn.execute(\"INSERT INTO COMPANY (ID,NAME,AGE,ADDRESS,SALARY) \\\n",
    "      VALUES (5, 'Dave', 45, 'California', 20010.00 )\");\n",
    "\n",
    "conn.execute(\"INSERT INTO COMPANY (ID,NAME,AGE,ADDRESS,SALARY) \\\n",
    "      VALUES (6, 'Bob', 25, 'Texas', 16000.00 )\");\n",
    "\n",
    "conn.execute(\"INSERT INTO COMPANY (ID,NAME,AGE,ADDRESS,SALARY) \\\n",
    "      VALUES (7, 'Mike', 23, 'Norway', 21000.00 )\");\n",
    "\n",
    "conn.execute(\"INSERT INTO COMPANY (ID,NAME,AGE,ADDRESS,SALARY) \\\n",
    "      VALUES (8, 'Mark', 55, 'Chicago ', 150000.00 )\");\n",
    "\n",
    "conn.execute(\"INSERT INTO COMPANY (ID,NAME,AGE,ADDRESS,SALARY) \\\n",
    "      VALUES (9, 'Mark', 45, 'Boston ', 800000.00 )\");\n",
    "\n",
    "conn.execute(\"INSERT INTO COMPANY (ID,NAME,AGE,ADDRESS,SALARY) \\\n",
    "      VALUES (10, 'Mark', 65, 'Florida ', 120000.00 )\");\n",
    "\n",
    "conn.commit()\n",
    "print (\"COMPANY Records created successfully\");"
   ]
  },
  {
   "cell_type": "code",
   "execution_count": 6,
   "metadata": {},
   "outputs": [
    {
     "name": "stdout",
     "output_type": "stream",
     "text": [
      "VEHICLES Records created successfully\n"
     ]
    }
   ],
   "source": [
    "# insert records VEHICLE table\n",
    "conn.execute(\"INSERT INTO VEHICLES (ID,MAKE,CYLINDERS,TRANSMISSION) \\\n",
    "      VALUES (1, 'Ford', 6, 'Auto')\");\n",
    "\n",
    "conn.execute(\"INSERT INTO VEHICLES (ID,MAKE,CYLINDERS,TRANSMISSION) \\\n",
    "      VALUES (2, 'VW', 6, 'Manual' )\");\n",
    "\n",
    "conn.execute(\"INSERT INTO VEHICLES (ID,MAKE,CYLINDERS,TRANSMISSION) \\\n",
    "      VALUES (3, 'Peugot', 6, 'Auto')\");\n",
    "\n",
    "conn.execute(\"INSERT INTO VEHICLES (ID,MAKE,CYLINDERS,TRANSMISSION) \\\n",
    "      VALUES (4, 'Fiat', 4, 'Auto')\");\n",
    "\n",
    "conn.execute(\"INSERT INTO VEHICLES (ID,MAKE,CYLINDERS,TRANSMISSION) \\\n",
    "      VALUES (5, 'Toyota', 4, 'Manual')\");\n",
    "\n",
    "conn.execute(\"INSERT INTO VEHICLES (ID,MAKE,CYLINDERS,TRANSMISSION) \\\n",
    "      VALUES (6, 'Toyota', 4, 'Auto')\");\n",
    "\n",
    "conn.execute(\"INSERT INTO VEHICLES (ID,MAKE,CYLINDERS,TRANSMISSION) \\\n",
    "      VALUES (7, 'Ford', 6, 'Manual')\");\n",
    "\n",
    "conn.execute(\"INSERT INTO VEHICLES (ID,MAKE,CYLINDERS,TRANSMISSION) \\\n",
    "      VALUES (8, 'Toyota', 4, 'Auto')\");\n",
    "\n",
    "conn.execute(\"INSERT INTO VEHICLES (ID,MAKE,CYLINDERS,TRANSMISSION) \\\n",
    "      VALUES (9, 'BMW', 6, 'Auto')\");\n",
    "\n",
    "conn.execute(\"INSERT INTO VEHICLES (ID,MAKE,CYLINDERS,TRANSMISSION) \\\n",
    "      VALUES (10, 'BMW', 6, 'Manual')\");\n",
    "\n",
    "conn.commit()\n",
    "print (\"VEHICLES Records created successfully\");"
   ]
  },
  {
   "cell_type": "code",
   "execution_count": 7,
   "metadata": {},
   "outputs": [
    {
     "name": "stdout",
     "output_type": "stream",
     "text": [
      "Opened database successfully\n",
      "ID =  1\n",
      "NAME =  Paul\n",
      "ADDRESS =  California\n",
      "SALARY =  20000.0 \n",
      "\n",
      "ID =  2\n",
      "NAME =  Allen\n",
      "ADDRESS =  Texas\n",
      "SALARY =  15000.0 \n",
      "\n",
      "ID =  3\n",
      "NAME =  Teddy\n",
      "ADDRESS =  Norway\n",
      "SALARY =  20000.0 \n",
      "\n",
      "ID =  4\n",
      "NAME =  Mark\n",
      "ADDRESS =  Rich-Mond \n",
      "SALARY =  65000.0 \n",
      "\n",
      "ID =  5\n",
      "NAME =  Dave\n",
      "ADDRESS =  California\n",
      "SALARY =  20010.0 \n",
      "\n",
      "ID =  6\n",
      "NAME =  Bob\n",
      "ADDRESS =  Texas\n",
      "SALARY =  16000.0 \n",
      "\n",
      "ID =  7\n",
      "NAME =  Mike\n",
      "ADDRESS =  Norway\n",
      "SALARY =  21000.0 \n",
      "\n",
      "ID =  8\n",
      "NAME =  Mark\n",
      "ADDRESS =  Chicago \n",
      "SALARY =  150000.0 \n",
      "\n",
      "ID =  9\n",
      "NAME =  Mark\n",
      "ADDRESS =  Boston \n",
      "SALARY =  800000.0 \n",
      "\n",
      "ID =  10\n",
      "NAME =  Mark\n",
      "ADDRESS =  Florida \n",
      "SALARY =  120000.0 \n",
      "\n",
      "Operation done successfully\n"
     ]
    }
   ],
   "source": [
    "import sqlite3\n",
    "\n",
    "conn = sqlite3.connect('etl.db')\n",
    "print(\"Opened database successfully\");\n",
    "\n",
    "cursor = conn.execute(\"SELECT id, name, address, salary from COMPANY\")\n",
    "for row in cursor:\n",
    "   print (\"ID = \", row[0])\n",
    "   print (\"NAME = \", row[1])\n",
    "   print (\"ADDRESS = \", row[2])\n",
    "   print (\"SALARY = \", row[3], \"\\n\")\n",
    "\n",
    "print(\"Operation done successfully\");\n",
    "conn.close()"
   ]
  },
  {
   "cell_type": "code",
   "execution_count": null,
   "metadata": {
    "collapsed": true
   },
   "outputs": [],
   "source": []
  },
  {
   "cell_type": "code",
   "execution_count": null,
   "metadata": {
    "collapsed": true
   },
   "outputs": [],
   "source": []
  },
  {
   "cell_type": "code",
   "execution_count": null,
   "metadata": {
    "collapsed": true
   },
   "outputs": [],
   "source": []
  },
  {
   "cell_type": "code",
   "execution_count": null,
   "metadata": {
    "collapsed": true
   },
   "outputs": [],
   "source": []
  },
  {
   "cell_type": "code",
   "execution_count": null,
   "metadata": {
    "collapsed": true
   },
   "outputs": [],
   "source": []
  }
 ],
 "metadata": {
  "kernelspec": {
   "display_name": "Python [default]",
   "language": "python",
   "name": "python3"
  },
  "language_info": {
   "codemirror_mode": {
    "name": "ipython",
    "version": 3
   },
   "file_extension": ".py",
   "mimetype": "text/x-python",
   "name": "python",
   "nbconvert_exporter": "python",
   "pygments_lexer": "ipython3",
   "version": "3.5.2"
  }
 },
 "nbformat": 4,
 "nbformat_minor": 2
}
