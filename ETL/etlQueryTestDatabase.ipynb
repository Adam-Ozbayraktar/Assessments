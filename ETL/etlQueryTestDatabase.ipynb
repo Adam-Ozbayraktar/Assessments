{
 "cells": [
  {
   "cell_type": "markdown",
   "metadata": {},
   "source": [
    "### CREATE TEST QUERIES"
   ]
  },
  {
   "cell_type": "markdown",
   "metadata": {},
   "source": [
    "**jira**: https://jira.bltelecoms.net/browse/SWITZERLAND-428"
   ]
  },
  {
   "cell_type": "markdown",
   "metadata": {},
   "source": [
    "**ref**:  \n",
    "* https://www.tutorialspoint.com/sqlite/sqlite_python.htm  \n",
    "* https://www.r-bloggers.com/turning-data-into-awesome-with-sqldf-and-pandasql/  \n",
    "* https://pypi.python.org/pypi/pandasql"
   ]
  },
  {
   "cell_type": "code",
   "execution_count": 1,
   "metadata": {},
   "outputs": [],
   "source": [
    "import pandas as pd\n",
    "import sqlite3\n",
    "\n",
    "from pandasql import sqldf\n",
    "pysqldf = lambda q: sqldf(q, globals())"
   ]
  },
  {
   "cell_type": "code",
   "execution_count": null,
   "metadata": {
    "collapsed": true
   },
   "outputs": [],
   "source": [
    "conn = sqlite3.connect(\"etl.db\")"
   ]
  },
  {
   "cell_type": "code",
   "execution_count": 44,
   "metadata": {
    "collapsed": true
   },
   "outputs": [],
   "source": [
    "companyTableDF = pd.read_sql_query(\"select * from COMPANY;\", conn)\n",
    "vehiclesTableDF = pd.read_sql_query(\"select * from VEHICLES;\", conn)"
   ]
  },
  {
   "cell_type": "code",
   "execution_count": null,
   "metadata": {
    "collapsed": true
   },
   "outputs": [],
   "source": []
  },
  {
   "cell_type": "code",
   "execution_count": 78,
   "metadata": {},
   "outputs": [
    {
     "name": "stdout",
     "output_type": "stream",
     "text": [
      "   ID   NAME  AGE     ADDRESS    SALARY\n",
      "0   1   Paul   32  California   20000.0\n",
      "1   2  Allen   25       Texas   15000.0\n",
      "2   3  Teddy   23      Norway   20000.0\n",
      "3   4   Mark   25  Rich-Mond    65000.0\n",
      "4   5   Dave   45  California   20010.0\n",
      "5   6    Bob   25       Texas   16000.0\n",
      "6   7   Mike   23      Norway   21000.0\n",
      "7   8   Mark   55    Chicago   150000.0\n",
      "8   9   Mark   45     Boston   800000.0\n",
      "9  10   Mark   65    Florida   120000.0\n"
     ]
    }
   ],
   "source": [
    "print(companyTableDF)"
   ]
  },
  {
   "cell_type": "code",
   "execution_count": 79,
   "metadata": {},
   "outputs": [
    {
     "name": "stdout",
     "output_type": "stream",
     "text": [
      "   ID    MAKE  CYLINDERS TRANSMISSION\n",
      "0   1    Ford          6         Auto\n",
      "1   2      VW          6       Manual\n",
      "2   3  Peugot          6         Auto\n",
      "3   4    Fiat          4         Auto\n",
      "4   5  Toyota          4       Manual\n",
      "5   6  Toyota          4         Auto\n",
      "6   7    Ford          6       Manual\n",
      "7   8  Toyota          4         Auto\n",
      "8   9     BMW          6         Auto\n",
      "9  10     BMW          6       Manual\n"
     ]
    }
   ],
   "source": [
    "print(vehiclesTableDF)"
   ]
  },
  {
   "cell_type": "code",
   "execution_count": 10,
   "metadata": {
    "collapsed": true
   },
   "outputs": [],
   "source": [
    "# companyTableDF  COMPANY:  ID,NAME,AGE,ADDRESS,SALARY\n",
    "# vehiclesTableDF VEHICLES: ID,MAKE,CYLINDERS,TRANSMISSION\n",
    "\n",
    "q  = \"\"\"\n",
    "SELECT * \n",
    "FROM companyTableDF c \n",
    "WHERE c.NAME IN ('Mike', 'Mark')\n",
    ";\n",
    "\"\"\""
   ]
  },
  {
   "cell_type": "code",
   "execution_count": 11,
   "metadata": {
    "collapsed": true
   },
   "outputs": [],
   "source": [
    "qDF = pysqldf(q)\n",
    "# select iso_country, type, count(*) from airports group by iso_country, type order by iso_country, type"
   ]
  },
  {
   "cell_type": "code",
   "execution_count": 77,
   "metadata": {},
   "outputs": [
    {
     "name": "stdout",
     "output_type": "stream",
     "text": [
      "   ID  NAME  AGE     ADDRESS    SALARY\n",
      "0   4  Mark   25  Rich-Mond    65000.0\n",
      "1   7  Mike   23      Norway   21000.0\n",
      "2   8  Mark   55    Chicago   150000.0\n",
      "3   9  Mark   45     Boston   800000.0\n",
      "4  10  Mark   65    Florida   120000.0\n"
     ]
    }
   ],
   "source": [
    "print(qDF)"
   ]
  },
  {
   "cell_type": "code",
   "execution_count": 41,
   "metadata": {
    "collapsed": true
   },
   "outputs": [],
   "source": [
    "q1  = \"\"\"\n",
    "SELECT c.ADDRESS\n",
    "      ,SUM(SALARY) AS totalSalary\n",
    "      ,COUNT(SALARY) AS count\n",
    "      ,AVG(SALARY) AS averageSalary \n",
    "FROM companyTableDF c \n",
    "GROUP BY ADDRESS\n",
    "ORDER BY ADDRESS DESC\n",
    ";\n",
    "\"\"\""
   ]
  },
  {
   "cell_type": "code",
   "execution_count": 42,
   "metadata": {},
   "outputs": [],
   "source": [
    "q1DF = pysqldf(q1)"
   ]
  },
  {
   "cell_type": "code",
   "execution_count": 76,
   "metadata": {},
   "outputs": [
    {
     "name": "stdout",
     "output_type": "stream",
     "text": [
      "      ADDRESS  totalSalary  count  averageSalary\n",
      "0       Texas      31000.0      2        15500.0\n",
      "1  Rich-Mond       65000.0      1        65000.0\n",
      "2      Norway      41000.0      2        20500.0\n",
      "3    Florida      120000.0      1       120000.0\n",
      "4    Chicago      150000.0      1       150000.0\n",
      "5  California      40010.0      2        20005.0\n",
      "6     Boston      800000.0      1       800000.0\n"
     ]
    }
   ],
   "source": [
    "print(q1DF)"
   ]
  },
  {
   "cell_type": "code",
   "execution_count": 46,
   "metadata": {
    "collapsed": true
   },
   "outputs": [],
   "source": [
    "q2  = \"\"\"\n",
    "        SELECT \n",
    "               c.*\n",
    "              ,v.* \n",
    "        FROM companyTableDF c\n",
    "        LEFT JOIN vehiclesTableDF v ON c.ID = v.ID \n",
    "        WHERE v.MAKE = 'BMW'\n",
    "      ;\n",
    "\"\"\""
   ]
  },
  {
   "cell_type": "code",
   "execution_count": 47,
   "metadata": {
    "collapsed": true
   },
   "outputs": [],
   "source": [
    "q2DF = pysqldf(q2)"
   ]
  },
  {
   "cell_type": "code",
   "execution_count": 75,
   "metadata": {},
   "outputs": [
    {
     "name": "stdout",
     "output_type": "stream",
     "text": [
      "   ID  NAME  AGE   ADDRESS    SALARY  ID MAKE  CYLINDERS TRANSMISSION\n",
      "0   9  Mark   45   Boston   800000.0   9  BMW          6         Auto\n",
      "1  10  Mark   65  Florida   120000.0  10  BMW          6       Manual\n"
     ]
    }
   ],
   "source": [
    "print(q2DF)"
   ]
  },
  {
   "cell_type": "code",
   "execution_count": 71,
   "metadata": {
    "collapsed": true
   },
   "outputs": [],
   "source": [
    "# companyTableDF  COMPANY:  ID,NAME,AGE,ADDRESS,SALARY\n",
    "# vehiclesTableDF  VEHICLES: ID,MAKE,CYLINDERS,TRANSMISSION\n",
    "\n",
    "q3  = \"\"\" SELECT \n",
    "            c.ADDRESS\n",
    "            ,v.MAKE\n",
    "            ,COUNT(c.SALARY) AS count\n",
    "      FROM companyTableDF c\n",
    "      LEFT JOIN vehiclesTableDF v ON c.ID = v.ID WHERE c.SALARY > 30000\n",
    "      GROUP BY c.ADDRESS,v.MAKE\n",
    ";\n",
    "\"\"\""
   ]
  },
  {
   "cell_type": "code",
   "execution_count": 72,
   "metadata": {},
   "outputs": [],
   "source": [
    "q3DF = pysqldf(q3)"
   ]
  },
  {
   "cell_type": "code",
   "execution_count": null,
   "metadata": {
    "collapsed": true
   },
   "outputs": [],
   "source": [
    "print(\"\\nquery results\\n\")"
   ]
  },
  {
   "cell_type": "code",
   "execution_count": 74,
   "metadata": {},
   "outputs": [
    {
     "name": "stdout",
     "output_type": "stream",
     "text": [
      "      ADDRESS    MAKE  count\n",
      "0     Boston      BMW      1\n",
      "1    Chicago   Toyota      1\n",
      "2    Florida      BMW      1\n",
      "3  Rich-Mond     Fiat      1\n"
     ]
    }
   ],
   "source": [
    "print(q3DF)"
   ]
  },
  {
   "cell_type": "code",
   "execution_count": null,
   "metadata": {
    "collapsed": true
   },
   "outputs": [],
   "source": []
  },
  {
   "cell_type": "code",
   "execution_count": null,
   "metadata": {
    "collapsed": true
   },
   "outputs": [],
   "source": []
  },
  {
   "cell_type": "code",
   "execution_count": null,
   "metadata": {
    "collapsed": true
   },
   "outputs": [],
   "source": [
    "conn.close();"
   ]
  },
  {
   "cell_type": "code",
   "execution_count": null,
   "metadata": {
    "collapsed": true
   },
   "outputs": [],
   "source": []
  },
  {
   "cell_type": "code",
   "execution_count": null,
   "metadata": {
    "collapsed": true
   },
   "outputs": [],
   "source": []
  }
 ],
 "metadata": {
  "kernelspec": {
   "display_name": "Python [default]",
   "language": "python",
   "name": "python3"
  },
  "language_info": {
   "codemirror_mode": {
    "name": "ipython",
    "version": 3
   },
   "file_extension": ".py",
   "mimetype": "text/x-python",
   "name": "python",
   "nbconvert_exporter": "python",
   "pygments_lexer": "ipython3",
   "version": "3.5.2"
  }
 },
 "nbformat": 4,
 "nbformat_minor": 2
}
